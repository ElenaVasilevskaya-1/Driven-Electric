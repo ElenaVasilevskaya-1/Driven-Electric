{
 "cells": [
  {
   "cell_type": "code",
   "execution_count": 2,
   "metadata": {},
   "outputs": [
    {
     "name": "stdout",
     "output_type": "stream",
     "text": [
      "Defaulting to user installation because normal site-packages is not writeable\n",
      "Requirement already satisfied: pandas in /Users/huzefa/Library/Python/3.9/lib/python/site-packages (2.2.3)\n",
      "Requirement already satisfied: numpy>=1.22.4 in /Users/huzefa/Library/Python/3.9/lib/python/site-packages (from pandas) (2.0.2)\n",
      "Requirement already satisfied: python-dateutil>=2.8.2 in /Users/huzefa/Library/Python/3.9/lib/python/site-packages (from pandas) (2.9.0.post0)\n",
      "Requirement already satisfied: pytz>=2020.1 in /Users/huzefa/Library/Python/3.9/lib/python/site-packages (from pandas) (2025.2)\n",
      "Requirement already satisfied: tzdata>=2022.7 in /Users/huzefa/Library/Python/3.9/lib/python/site-packages (from pandas) (2025.2)\n",
      "Requirement already satisfied: six>=1.5 in /Library/Developer/CommandLineTools/Library/Frameworks/Python3.framework/Versions/3.9/lib/python3.9/site-packages (from python-dateutil>=2.8.2->pandas) (1.15.0)\n",
      "Note: you may need to restart the kernel to use updated packages.\n"
     ]
    }
   ],
   "source": [
    "#import pandas as pd\n",
    "# Install pandas if not already installed\n",
    "%pip install pandas\n",
    "\n",
    "import pandas as pd  "
   ]
  },
  {
   "cell_type": "code",
   "execution_count": null,
   "metadata": {},
   "outputs": [],
   "source": [
    "df = pd.read_csv('data/DS2_IEA_Global_EV Data 2024.csv')\n",
    "                 \n",
    "df.head()"
   ]
  },
  {
   "cell_type": "code",
   "execution_count": 3,
   "metadata": {},
   "outputs": [],
   "source": [
    "import sqlite3\n"
   ]
  },
  {
   "cell_type": "code",
   "execution_count": null,
   "metadata": {},
   "outputs": [],
   "source": [
    "\n",
    "# Create connection to SQLite Database\n",
    "conn = sqlite3.connect('ev_sales.db')"
   ]
  },
  {
   "cell_type": "code",
   "execution_count": null,
   "metadata": {},
   "outputs": [],
   "source": [
    "df_ev_sales = pd.read_csv('data/DS2_IEA_Global_EV Data 2024.csv')\n",
    "df_ev_sales.to_sql('ev_sales', conn, if_exists='replace', index=False)"
   ]
  },
  {
   "cell_type": "code",
   "execution_count": null,
   "metadata": {},
   "outputs": [],
   "source": [
    "# SQL query:\n",
    "#to see the table\n",
    "# select region Germany\n",
    "query = \"select * from ev_sales where region = 'Germany'\"\n",
    "table = pd.read_sql_query(query, conn)\n",
    "table"
   ]
  },
  {
   "cell_type": "code",
   "execution_count": null,
   "metadata": {},
   "outputs": [],
   "source": [
    "# check the most selling cars\n",
    "query2 = \"\"\"\n",
    "select parameter, mode, powertrain\n",
    "from ev_sales\n",
    "where region = 'Germany' and mode = 'Cars' and parameter = 'EV Sales' and unit = 'Vehicles'\n",
    "\"\"\"\n",
    "table2 = pd.read_sql_query(query2, conn)\n",
    "table2"
   ]
  },
  {
   "cell_type": "code",
   "execution_count": null,
   "metadata": {},
   "outputs": [],
   "source": [
    "# check the most selling cars year\n",
    "# we are focusing cars, not trucks, vans, or buses\n",
    "query3 = \"\"\"SELECT \n",
    "    parameter, \n",
    "    mode, \n",
    "    powertrain,\n",
    "    year,\n",
    "    value\n",
    "FROM ev_sales\n",
    "WHERE \n",
    "    region = 'Germany' \n",
    "    AND mode = 'Cars' \n",
    "    AND parameter = 'EV sales'\n",
    "    AND unit = 'Vehicles'\n",
    "    AND powertrain != 'EV'\n",
    "ORDER BY value DESC\n",
    "LIMIT 10\"\"\"\n",
    "table = pd.read_sql_query(query3, conn)\n",
    "table"
   ]
  },
  {
   "cell_type": "code",
   "execution_count": null,
   "metadata": {},
   "outputs": [],
   "source": [
    "# checking top selling PHEV cars trend\n",
    "# check the most selling cars year\n",
    "# we are focusing cars, not trucks, vans, or buses\n",
    "query4 = \"\"\"SELECT \n",
    "    parameter, \n",
    "    mode, \n",
    "    powertrain,\n",
    "    YEAR,\n",
    "    value\n",
    "FROM ds2_iea_global_ev_data\n",
    "WHERE \n",
    "    region = 'Germany' \n",
    "    AND mode = 'Cars' \n",
    "    AND parameter = 'EV sales'\n",
    "    AND unit = 'Vehicles'\n",
    "    AND powertrain != 'EV'\n",
    "    AND powertrain = 'PHEV'\n",
    "ORDER BY value DESC\n",
    "LIMIT 10\"\"\"\n",
    "table = pd.read_sql_query(query4, conn)\n",
    "table1"
   ]
  },
  {
   "cell_type": "code",
   "execution_count": 8,
   "metadata": {},
   "outputs": [],
   "source": [
    "# working with the DS1\n",
    "\n",
    "# Create connection to SQLite Database\n",
    "conn = sqlite3.connect('ev_cars_new.db')"
   ]
  },
  {
   "cell_type": "code",
   "execution_count": 9,
   "metadata": {},
   "outputs": [
    {
     "data": {
      "text/plain": [
       "360"
      ]
     },
     "execution_count": 9,
     "metadata": {},
     "output_type": "execute_result"
    }
   ],
   "source": [
    "df_ev_cars = pd.read_csv('data/ds1_ev_cars_new.csv')\n",
    "df_ev_cars.to_sql('ev_cars_new.db', conn, if_exists='replace', index=False)"
   ]
  },
  {
   "cell_type": "code",
   "execution_count": null,
   "metadata": {},
   "outputs": [],
   "source": [
    "# now data cleaning with python"
   ]
  },
  {
   "cell_type": "code",
   "execution_count": null,
   "metadata": {},
   "outputs": [],
   "source": [
    "\n"
   ]
  },
  {
   "cell_type": "code",
   "execution_count": null,
   "metadata": {},
   "outputs": [],
   "source": []
  },
  {
   "cell_type": "code",
   "execution_count": null,
   "metadata": {},
   "outputs": [],
   "source": []
  }
 ],
 "metadata": {
  "kernelspec": {
   "display_name": "Python 3",
   "language": "python",
   "name": "python3"
  },
  "language_info": {
   "codemirror_mode": {
    "name": "ipython",
    "version": 3
   },
   "file_extension": ".py",
   "mimetype": "text/x-python",
   "name": "python",
   "nbconvert_exporter": "python",
   "pygments_lexer": "ipython3",
   "version": "3.9.6"
  }
 },
 "nbformat": 4,
 "nbformat_minor": 2
}
