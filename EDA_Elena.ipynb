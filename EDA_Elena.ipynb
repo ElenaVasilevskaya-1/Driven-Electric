{
 "cells": [
  {
   "cell_type": "code",
   "execution_count": 1,
   "metadata": {},
   "outputs": [],
   "source": [
    "import pandas as pd"
   ]
  },
  {
   "cell_type": "code",
   "execution_count": 35,
   "metadata": {},
   "outputs": [
    {
     "data": {
      "text/html": [
       "<div>\n",
       "<style scoped>\n",
       "    .dataframe tbody tr th:only-of-type {\n",
       "        vertical-align: middle;\n",
       "    }\n",
       "\n",
       "    .dataframe tbody tr th {\n",
       "        vertical-align: top;\n",
       "    }\n",
       "\n",
       "    .dataframe thead th {\n",
       "        text-align: right;\n",
       "    }\n",
       "</style>\n",
       "<table border=\"1\" class=\"dataframe\">\n",
       "  <thead>\n",
       "    <tr style=\"text-align: right;\">\n",
       "      <th></th>\n",
       "      <th>region</th>\n",
       "      <th>category</th>\n",
       "      <th>parameter</th>\n",
       "      <th>mode</th>\n",
       "      <th>powertrain</th>\n",
       "      <th>year</th>\n",
       "      <th>unit</th>\n",
       "      <th>value</th>\n",
       "    </tr>\n",
       "  </thead>\n",
       "  <tbody>\n",
       "    <tr>\n",
       "      <th>0</th>\n",
       "      <td>Australia</td>\n",
       "      <td>Historical</td>\n",
       "      <td>EV stock share</td>\n",
       "      <td>Cars</td>\n",
       "      <td>EV</td>\n",
       "      <td>2011</td>\n",
       "      <td>percent</td>\n",
       "      <td>0.00039</td>\n",
       "    </tr>\n",
       "    <tr>\n",
       "      <th>1</th>\n",
       "      <td>Australia</td>\n",
       "      <td>Historical</td>\n",
       "      <td>EV sales share</td>\n",
       "      <td>Cars</td>\n",
       "      <td>EV</td>\n",
       "      <td>2011</td>\n",
       "      <td>percent</td>\n",
       "      <td>0.00650</td>\n",
       "    </tr>\n",
       "    <tr>\n",
       "      <th>2</th>\n",
       "      <td>Australia</td>\n",
       "      <td>Historical</td>\n",
       "      <td>EV sales</td>\n",
       "      <td>Cars</td>\n",
       "      <td>BEV</td>\n",
       "      <td>2011</td>\n",
       "      <td>Vehicles</td>\n",
       "      <td>49.00000</td>\n",
       "    </tr>\n",
       "    <tr>\n",
       "      <th>3</th>\n",
       "      <td>Australia</td>\n",
       "      <td>Historical</td>\n",
       "      <td>EV stock</td>\n",
       "      <td>Cars</td>\n",
       "      <td>BEV</td>\n",
       "      <td>2011</td>\n",
       "      <td>Vehicles</td>\n",
       "      <td>49.00000</td>\n",
       "    </tr>\n",
       "    <tr>\n",
       "      <th>4</th>\n",
       "      <td>Australia</td>\n",
       "      <td>Historical</td>\n",
       "      <td>EV stock</td>\n",
       "      <td>Cars</td>\n",
       "      <td>BEV</td>\n",
       "      <td>2012</td>\n",
       "      <td>Vehicles</td>\n",
       "      <td>220.00000</td>\n",
       "    </tr>\n",
       "    <tr>\n",
       "      <th>5</th>\n",
       "      <td>Australia</td>\n",
       "      <td>Historical</td>\n",
       "      <td>EV sales</td>\n",
       "      <td>Cars</td>\n",
       "      <td>BEV</td>\n",
       "      <td>2012</td>\n",
       "      <td>Vehicles</td>\n",
       "      <td>170.00000</td>\n",
       "    </tr>\n",
       "    <tr>\n",
       "      <th>6</th>\n",
       "      <td>Australia</td>\n",
       "      <td>Historical</td>\n",
       "      <td>EV sales share</td>\n",
       "      <td>Cars</td>\n",
       "      <td>EV</td>\n",
       "      <td>2012</td>\n",
       "      <td>percent</td>\n",
       "      <td>0.03000</td>\n",
       "    </tr>\n",
       "    <tr>\n",
       "      <th>7</th>\n",
       "      <td>Australia</td>\n",
       "      <td>Historical</td>\n",
       "      <td>EV stock share</td>\n",
       "      <td>Cars</td>\n",
       "      <td>EV</td>\n",
       "      <td>2012</td>\n",
       "      <td>percent</td>\n",
       "      <td>0.00240</td>\n",
       "    </tr>\n",
       "    <tr>\n",
       "      <th>8</th>\n",
       "      <td>Australia</td>\n",
       "      <td>Historical</td>\n",
       "      <td>EV stock</td>\n",
       "      <td>Cars</td>\n",
       "      <td>PHEV</td>\n",
       "      <td>2012</td>\n",
       "      <td>Vehicles</td>\n",
       "      <td>80.00000</td>\n",
       "    </tr>\n",
       "    <tr>\n",
       "      <th>9</th>\n",
       "      <td>Australia</td>\n",
       "      <td>Historical</td>\n",
       "      <td>EV sales</td>\n",
       "      <td>Cars</td>\n",
       "      <td>PHEV</td>\n",
       "      <td>2012</td>\n",
       "      <td>Vehicles</td>\n",
       "      <td>80.00000</td>\n",
       "    </tr>\n",
       "    <tr>\n",
       "      <th>10</th>\n",
       "      <td>Australia</td>\n",
       "      <td>Historical</td>\n",
       "      <td>EV sales</td>\n",
       "      <td>Cars</td>\n",
       "      <td>PHEV</td>\n",
       "      <td>2013</td>\n",
       "      <td>Vehicles</td>\n",
       "      <td>100.00000</td>\n",
       "    </tr>\n",
       "    <tr>\n",
       "      <th>11</th>\n",
       "      <td>Australia</td>\n",
       "      <td>Historical</td>\n",
       "      <td>EV stock</td>\n",
       "      <td>Cars</td>\n",
       "      <td>PHEV</td>\n",
       "      <td>2013</td>\n",
       "      <td>Vehicles</td>\n",
       "      <td>180.00000</td>\n",
       "    </tr>\n",
       "    <tr>\n",
       "      <th>12</th>\n",
       "      <td>Australia</td>\n",
       "      <td>Historical</td>\n",
       "      <td>EV stock share</td>\n",
       "      <td>Cars</td>\n",
       "      <td>EV</td>\n",
       "      <td>2013</td>\n",
       "      <td>percent</td>\n",
       "      <td>0.00460</td>\n",
       "    </tr>\n",
       "    <tr>\n",
       "      <th>13</th>\n",
       "      <td>Australia</td>\n",
       "      <td>Historical</td>\n",
       "      <td>EV sales share</td>\n",
       "      <td>Cars</td>\n",
       "      <td>EV</td>\n",
       "      <td>2013</td>\n",
       "      <td>percent</td>\n",
       "      <td>0.03400</td>\n",
       "    </tr>\n",
       "    <tr>\n",
       "      <th>14</th>\n",
       "      <td>Australia</td>\n",
       "      <td>Historical</td>\n",
       "      <td>EV sales</td>\n",
       "      <td>Cars</td>\n",
       "      <td>BEV</td>\n",
       "      <td>2013</td>\n",
       "      <td>Vehicles</td>\n",
       "      <td>190.00000</td>\n",
       "    </tr>\n",
       "    <tr>\n",
       "      <th>15</th>\n",
       "      <td>Australia</td>\n",
       "      <td>Historical</td>\n",
       "      <td>EV stock</td>\n",
       "      <td>Cars</td>\n",
       "      <td>BEV</td>\n",
       "      <td>2013</td>\n",
       "      <td>Vehicles</td>\n",
       "      <td>410.00000</td>\n",
       "    </tr>\n",
       "    <tr>\n",
       "      <th>16</th>\n",
       "      <td>Australia</td>\n",
       "      <td>Historical</td>\n",
       "      <td>EV stock</td>\n",
       "      <td>Cars</td>\n",
       "      <td>BEV</td>\n",
       "      <td>2014</td>\n",
       "      <td>Vehicles</td>\n",
       "      <td>780.00000</td>\n",
       "    </tr>\n",
       "    <tr>\n",
       "      <th>17</th>\n",
       "      <td>Australia</td>\n",
       "      <td>Historical</td>\n",
       "      <td>EV sales</td>\n",
       "      <td>Cars</td>\n",
       "      <td>BEV</td>\n",
       "      <td>2014</td>\n",
       "      <td>Vehicles</td>\n",
       "      <td>370.00000</td>\n",
       "    </tr>\n",
       "    <tr>\n",
       "      <th>18</th>\n",
       "      <td>Australia</td>\n",
       "      <td>Historical</td>\n",
       "      <td>EV sales share</td>\n",
       "      <td>Cars</td>\n",
       "      <td>EV</td>\n",
       "      <td>2014</td>\n",
       "      <td>percent</td>\n",
       "      <td>0.16000</td>\n",
       "    </tr>\n",
       "    <tr>\n",
       "      <th>19</th>\n",
       "      <td>Australia</td>\n",
       "      <td>Historical</td>\n",
       "      <td>EV stock share</td>\n",
       "      <td>Cars</td>\n",
       "      <td>EV</td>\n",
       "      <td>2014</td>\n",
       "      <td>percent</td>\n",
       "      <td>0.01400</td>\n",
       "    </tr>\n",
       "    <tr>\n",
       "      <th>20</th>\n",
       "      <td>Australia</td>\n",
       "      <td>Historical</td>\n",
       "      <td>EV stock</td>\n",
       "      <td>Cars</td>\n",
       "      <td>PHEV</td>\n",
       "      <td>2014</td>\n",
       "      <td>Vehicles</td>\n",
       "      <td>1100.00000</td>\n",
       "    </tr>\n",
       "    <tr>\n",
       "      <th>21</th>\n",
       "      <td>Australia</td>\n",
       "      <td>Historical</td>\n",
       "      <td>EV sales</td>\n",
       "      <td>Cars</td>\n",
       "      <td>PHEV</td>\n",
       "      <td>2014</td>\n",
       "      <td>Vehicles</td>\n",
       "      <td>950.00000</td>\n",
       "    </tr>\n",
       "    <tr>\n",
       "      <th>22</th>\n",
       "      <td>Australia</td>\n",
       "      <td>Historical</td>\n",
       "      <td>EV sales</td>\n",
       "      <td>Cars</td>\n",
       "      <td>PHEV</td>\n",
       "      <td>2015</td>\n",
       "      <td>Vehicles</td>\n",
       "      <td>1000.00000</td>\n",
       "    </tr>\n",
       "    <tr>\n",
       "      <th>23</th>\n",
       "      <td>Australia</td>\n",
       "      <td>Historical</td>\n",
       "      <td>EV stock</td>\n",
       "      <td>Cars</td>\n",
       "      <td>PHEV</td>\n",
       "      <td>2015</td>\n",
       "      <td>Vehicles</td>\n",
       "      <td>2100.00000</td>\n",
       "    </tr>\n",
       "    <tr>\n",
       "      <th>24</th>\n",
       "      <td>Australia</td>\n",
       "      <td>Historical</td>\n",
       "      <td>EV stock share</td>\n",
       "      <td>Cars</td>\n",
       "      <td>EV</td>\n",
       "      <td>2015</td>\n",
       "      <td>percent</td>\n",
       "      <td>0.02700</td>\n",
       "    </tr>\n",
       "    <tr>\n",
       "      <th>25</th>\n",
       "      <td>Australia</td>\n",
       "      <td>Historical</td>\n",
       "      <td>EV sales share</td>\n",
       "      <td>Cars</td>\n",
       "      <td>EV</td>\n",
       "      <td>2015</td>\n",
       "      <td>percent</td>\n",
       "      <td>0.20000</td>\n",
       "    </tr>\n",
       "    <tr>\n",
       "      <th>26</th>\n",
       "      <td>Australia</td>\n",
       "      <td>Historical</td>\n",
       "      <td>EV sales</td>\n",
       "      <td>Cars</td>\n",
       "      <td>BEV</td>\n",
       "      <td>2015</td>\n",
       "      <td>Vehicles</td>\n",
       "      <td>760.00000</td>\n",
       "    </tr>\n",
       "    <tr>\n",
       "      <th>27</th>\n",
       "      <td>Australia</td>\n",
       "      <td>Historical</td>\n",
       "      <td>EV stock</td>\n",
       "      <td>Cars</td>\n",
       "      <td>BEV</td>\n",
       "      <td>2015</td>\n",
       "      <td>Vehicles</td>\n",
       "      <td>1500.00000</td>\n",
       "    </tr>\n",
       "    <tr>\n",
       "      <th>28</th>\n",
       "      <td>Australia</td>\n",
       "      <td>Historical</td>\n",
       "      <td>EV stock</td>\n",
       "      <td>Cars</td>\n",
       "      <td>BEV</td>\n",
       "      <td>2016</td>\n",
       "      <td>Vehicles</td>\n",
       "      <td>2200.00000</td>\n",
       "    </tr>\n",
       "    <tr>\n",
       "      <th>29</th>\n",
       "      <td>Australia</td>\n",
       "      <td>Historical</td>\n",
       "      <td>EV sales</td>\n",
       "      <td>Cars</td>\n",
       "      <td>BEV</td>\n",
       "      <td>2016</td>\n",
       "      <td>Vehicles</td>\n",
       "      <td>670.00000</td>\n",
       "    </tr>\n",
       "  </tbody>\n",
       "</table>\n",
       "</div>"
      ],
      "text/plain": [
       "       region    category       parameter  mode powertrain  year      unit  \\\n",
       "0   Australia  Historical  EV stock share  Cars         EV  2011   percent   \n",
       "1   Australia  Historical  EV sales share  Cars         EV  2011   percent   \n",
       "2   Australia  Historical        EV sales  Cars        BEV  2011  Vehicles   \n",
       "3   Australia  Historical        EV stock  Cars        BEV  2011  Vehicles   \n",
       "4   Australia  Historical        EV stock  Cars        BEV  2012  Vehicles   \n",
       "5   Australia  Historical        EV sales  Cars        BEV  2012  Vehicles   \n",
       "6   Australia  Historical  EV sales share  Cars         EV  2012   percent   \n",
       "7   Australia  Historical  EV stock share  Cars         EV  2012   percent   \n",
       "8   Australia  Historical        EV stock  Cars       PHEV  2012  Vehicles   \n",
       "9   Australia  Historical        EV sales  Cars       PHEV  2012  Vehicles   \n",
       "10  Australia  Historical        EV sales  Cars       PHEV  2013  Vehicles   \n",
       "11  Australia  Historical        EV stock  Cars       PHEV  2013  Vehicles   \n",
       "12  Australia  Historical  EV stock share  Cars         EV  2013   percent   \n",
       "13  Australia  Historical  EV sales share  Cars         EV  2013   percent   \n",
       "14  Australia  Historical        EV sales  Cars        BEV  2013  Vehicles   \n",
       "15  Australia  Historical        EV stock  Cars        BEV  2013  Vehicles   \n",
       "16  Australia  Historical        EV stock  Cars        BEV  2014  Vehicles   \n",
       "17  Australia  Historical        EV sales  Cars        BEV  2014  Vehicles   \n",
       "18  Australia  Historical  EV sales share  Cars         EV  2014   percent   \n",
       "19  Australia  Historical  EV stock share  Cars         EV  2014   percent   \n",
       "20  Australia  Historical        EV stock  Cars       PHEV  2014  Vehicles   \n",
       "21  Australia  Historical        EV sales  Cars       PHEV  2014  Vehicles   \n",
       "22  Australia  Historical        EV sales  Cars       PHEV  2015  Vehicles   \n",
       "23  Australia  Historical        EV stock  Cars       PHEV  2015  Vehicles   \n",
       "24  Australia  Historical  EV stock share  Cars         EV  2015   percent   \n",
       "25  Australia  Historical  EV sales share  Cars         EV  2015   percent   \n",
       "26  Australia  Historical        EV sales  Cars        BEV  2015  Vehicles   \n",
       "27  Australia  Historical        EV stock  Cars        BEV  2015  Vehicles   \n",
       "28  Australia  Historical        EV stock  Cars        BEV  2016  Vehicles   \n",
       "29  Australia  Historical        EV sales  Cars        BEV  2016  Vehicles   \n",
       "\n",
       "         value  \n",
       "0      0.00039  \n",
       "1      0.00650  \n",
       "2     49.00000  \n",
       "3     49.00000  \n",
       "4    220.00000  \n",
       "5    170.00000  \n",
       "6      0.03000  \n",
       "7      0.00240  \n",
       "8     80.00000  \n",
       "9     80.00000  \n",
       "10   100.00000  \n",
       "11   180.00000  \n",
       "12     0.00460  \n",
       "13     0.03400  \n",
       "14   190.00000  \n",
       "15   410.00000  \n",
       "16   780.00000  \n",
       "17   370.00000  \n",
       "18     0.16000  \n",
       "19     0.01400  \n",
       "20  1100.00000  \n",
       "21   950.00000  \n",
       "22  1000.00000  \n",
       "23  2100.00000  \n",
       "24     0.02700  \n",
       "25     0.20000  \n",
       "26   760.00000  \n",
       "27  1500.00000  \n",
       "28  2200.00000  \n",
       "29   670.00000  "
      ]
     },
     "execution_count": 35,
     "metadata": {},
     "output_type": "execute_result"
    }
   ],
   "source": [
    "# Provide the correct path to the file\n",
    "df = pd.read_csv('data/DS2_IEA_Global_EV Data 2024.csv')\n",
    "df.head(30)"
   ]
  },
  {
   "cell_type": "code",
   "execution_count": 36,
   "metadata": {},
   "outputs": [
    {
     "name": "stdout",
     "output_type": "stream",
     "text": [
      "8\n"
     ]
    }
   ],
   "source": [
    "parameter_list = df['parameter'].nunique()\n",
    "print(parameter_list)"
   ]
  },
  {
   "cell_type": "code",
   "execution_count": 37,
   "metadata": {},
   "outputs": [
    {
     "name": "stdout",
     "output_type": "stream",
     "text": [
      "['EV stock share', 'EV sales share', 'EV sales', 'EV stock', 'EV charging points', 'Electricity demand', 'Oil displacement Mbd', 'Oil displacement, million lge']\n"
     ]
    }
   ],
   "source": [
    "parameter_list_show = df['parameter'].unique().tolist() \n",
    "print(parameter_list_show)"
   ]
  },
  {
   "cell_type": "code",
   "execution_count": 38,
   "metadata": {},
   "outputs": [
    {
     "name": "stdout",
     "output_type": "stream",
     "text": [
      "       region    category parameter   mode powertrain  year      unit    value\n",
      "4876  Germany  Historical  EV sales   Vans       FCEV  2010  Vehicles      2.0\n",
      "4877  Germany  Historical  EV sales   Vans        BEV  2010  Vehicles    170.0\n",
      "4878  Germany  Historical  EV stock   Vans        BEV  2010  Vehicles    220.0\n",
      "4879  Germany  Historical  EV stock   Vans       FCEV  2010  Vehicles      2.0\n",
      "4880  Germany  Historical  EV stock   Cars       FCEV  2010  Vehicles     19.0\n",
      "...       ...         ...       ...    ...        ...   ...       ...      ...\n",
      "5169  Germany  Historical  EV stock  Buses       PHEV  2023  Vehicles    140.0\n",
      "5170  Germany  Historical  EV sales   Vans        BEV  2023  Vehicles  25000.0\n",
      "5171  Germany  Historical  EV sales  Buses       FCEV  2023  Vehicles     43.0\n",
      "5172  Germany  Historical  EV stock  Buses       FCEV  2023  Vehicles    160.0\n",
      "5173  Germany  Historical  EV sales  Buses       PHEV  2023  Vehicles      5.0\n",
      "\n",
      "[298 rows x 8 columns]\n"
     ]
    }
   ],
   "source": [
    "germany_market = df[df['region'] == 'Germany']\n",
    "print(germany_market)"
   ]
  },
  {
   "cell_type": "code",
   "execution_count": 39,
   "metadata": {},
   "outputs": [
    {
     "data": {
      "text/plain": [
       "['Historical']"
      ]
     },
     "execution_count": 39,
     "metadata": {},
     "output_type": "execute_result"
    }
   ],
   "source": [
    "germany_market['category'].unique().tolist() \n"
   ]
  },
  {
   "cell_type": "code",
   "execution_count": 40,
   "metadata": {},
   "outputs": [
    {
     "data": {
      "text/plain": [
       "['Vans', 'Cars', 'EV', 'Buses', 'Trucks']"
      ]
     },
     "execution_count": 40,
     "metadata": {},
     "output_type": "execute_result"
    }
   ],
   "source": [
    "germany_market['mode'].unique().tolist() "
   ]
  },
  {
   "cell_type": "code",
   "execution_count": 41,
   "metadata": {},
   "outputs": [
    {
     "data": {
      "text/plain": [
       "['Vehicles', 'percent', 'charging points']"
      ]
     },
     "execution_count": 41,
     "metadata": {},
     "output_type": "execute_result"
    }
   ],
   "source": [
    "germany_market['unit'].unique().tolist() "
   ]
  },
  {
   "cell_type": "code",
   "execution_count": 42,
   "metadata": {},
   "outputs": [
    {
     "data": {
      "text/plain": [
       "[2010,\n",
       " 2011,\n",
       " 2012,\n",
       " 2013,\n",
       " 2014,\n",
       " 2015,\n",
       " 2016,\n",
       " 2017,\n",
       " 2018,\n",
       " 2019,\n",
       " 2020,\n",
       " 2021,\n",
       " 2022,\n",
       " 2023]"
      ]
     },
     "execution_count": 42,
     "metadata": {},
     "output_type": "execute_result"
    }
   ],
   "source": [
    "germany_market['year'].unique().tolist() "
   ]
  },
  {
   "cell_type": "code",
   "execution_count": 43,
   "metadata": {},
   "outputs": [
    {
     "name": "stdout",
     "output_type": "stream",
     "text": [
      "      region    category parameter   mode powertrain  year      unit    value\n",
      "0    Germany  Historical  EV sales   Vans       FCEV  2010  Vehicles      2.0\n",
      "1    Germany  Historical  EV sales   Vans        BEV  2010  Vehicles    170.0\n",
      "2    Germany  Historical  EV stock   Vans        BEV  2010  Vehicles    220.0\n",
      "3    Germany  Historical  EV stock   Vans       FCEV  2010  Vehicles      2.0\n",
      "4    Germany  Historical  EV stock   Cars       FCEV  2010  Vehicles     19.0\n",
      "..       ...         ...       ...    ...        ...   ...       ...      ...\n",
      "293  Germany  Historical  EV stock  Buses       PHEV  2023  Vehicles    140.0\n",
      "294  Germany  Historical  EV sales   Vans        BEV  2023  Vehicles  25000.0\n",
      "295  Germany  Historical  EV sales  Buses       FCEV  2023  Vehicles     43.0\n",
      "296  Germany  Historical  EV stock  Buses       FCEV  2023  Vehicles    160.0\n",
      "297  Germany  Historical  EV sales  Buses       PHEV  2023  Vehicles      5.0\n",
      "\n",
      "[298 rows x 8 columns]\n"
     ]
    }
   ],
   "source": [
    "germany_market = germany_market.reset_index(drop=True)\n",
    "print(germany_market)"
   ]
  },
  {
   "cell_type": "code",
   "execution_count": 44,
   "metadata": {},
   "outputs": [
    {
     "data": {
      "text/html": [
       "<div>\n",
       "<style scoped>\n",
       "    .dataframe tbody tr th:only-of-type {\n",
       "        vertical-align: middle;\n",
       "    }\n",
       "\n",
       "    .dataframe tbody tr th {\n",
       "        vertical-align: top;\n",
       "    }\n",
       "\n",
       "    .dataframe thead th {\n",
       "        text-align: right;\n",
       "    }\n",
       "</style>\n",
       "<table border=\"1\" class=\"dataframe\">\n",
       "  <thead>\n",
       "    <tr style=\"text-align: right;\">\n",
       "      <th></th>\n",
       "      <th>region</th>\n",
       "      <th>parameter</th>\n",
       "      <th>mode</th>\n",
       "      <th>powertrain</th>\n",
       "      <th>year</th>\n",
       "      <th>unit</th>\n",
       "      <th>value</th>\n",
       "    </tr>\n",
       "  </thead>\n",
       "  <tbody>\n",
       "    <tr>\n",
       "      <th>0</th>\n",
       "      <td>Germany</td>\n",
       "      <td>EV sales</td>\n",
       "      <td>Vans</td>\n",
       "      <td>FCEV</td>\n",
       "      <td>2010</td>\n",
       "      <td>Vehicles</td>\n",
       "      <td>2.0</td>\n",
       "    </tr>\n",
       "    <tr>\n",
       "      <th>1</th>\n",
       "      <td>Germany</td>\n",
       "      <td>EV sales</td>\n",
       "      <td>Vans</td>\n",
       "      <td>BEV</td>\n",
       "      <td>2010</td>\n",
       "      <td>Vehicles</td>\n",
       "      <td>170.0</td>\n",
       "    </tr>\n",
       "    <tr>\n",
       "      <th>2</th>\n",
       "      <td>Germany</td>\n",
       "      <td>EV stock</td>\n",
       "      <td>Vans</td>\n",
       "      <td>BEV</td>\n",
       "      <td>2010</td>\n",
       "      <td>Vehicles</td>\n",
       "      <td>220.0</td>\n",
       "    </tr>\n",
       "    <tr>\n",
       "      <th>3</th>\n",
       "      <td>Germany</td>\n",
       "      <td>EV stock</td>\n",
       "      <td>Vans</td>\n",
       "      <td>FCEV</td>\n",
       "      <td>2010</td>\n",
       "      <td>Vehicles</td>\n",
       "      <td>2.0</td>\n",
       "    </tr>\n",
       "    <tr>\n",
       "      <th>4</th>\n",
       "      <td>Germany</td>\n",
       "      <td>EV stock</td>\n",
       "      <td>Cars</td>\n",
       "      <td>FCEV</td>\n",
       "      <td>2010</td>\n",
       "      <td>Vehicles</td>\n",
       "      <td>19.0</td>\n",
       "    </tr>\n",
       "    <tr>\n",
       "      <th>...</th>\n",
       "      <td>...</td>\n",
       "      <td>...</td>\n",
       "      <td>...</td>\n",
       "      <td>...</td>\n",
       "      <td>...</td>\n",
       "      <td>...</td>\n",
       "      <td>...</td>\n",
       "    </tr>\n",
       "    <tr>\n",
       "      <th>293</th>\n",
       "      <td>Germany</td>\n",
       "      <td>EV stock</td>\n",
       "      <td>Buses</td>\n",
       "      <td>PHEV</td>\n",
       "      <td>2023</td>\n",
       "      <td>Vehicles</td>\n",
       "      <td>140.0</td>\n",
       "    </tr>\n",
       "    <tr>\n",
       "      <th>294</th>\n",
       "      <td>Germany</td>\n",
       "      <td>EV sales</td>\n",
       "      <td>Vans</td>\n",
       "      <td>BEV</td>\n",
       "      <td>2023</td>\n",
       "      <td>Vehicles</td>\n",
       "      <td>25000.0</td>\n",
       "    </tr>\n",
       "    <tr>\n",
       "      <th>295</th>\n",
       "      <td>Germany</td>\n",
       "      <td>EV sales</td>\n",
       "      <td>Buses</td>\n",
       "      <td>FCEV</td>\n",
       "      <td>2023</td>\n",
       "      <td>Vehicles</td>\n",
       "      <td>43.0</td>\n",
       "    </tr>\n",
       "    <tr>\n",
       "      <th>296</th>\n",
       "      <td>Germany</td>\n",
       "      <td>EV stock</td>\n",
       "      <td>Buses</td>\n",
       "      <td>FCEV</td>\n",
       "      <td>2023</td>\n",
       "      <td>Vehicles</td>\n",
       "      <td>160.0</td>\n",
       "    </tr>\n",
       "    <tr>\n",
       "      <th>297</th>\n",
       "      <td>Germany</td>\n",
       "      <td>EV sales</td>\n",
       "      <td>Buses</td>\n",
       "      <td>PHEV</td>\n",
       "      <td>2023</td>\n",
       "      <td>Vehicles</td>\n",
       "      <td>5.0</td>\n",
       "    </tr>\n",
       "  </tbody>\n",
       "</table>\n",
       "<p>298 rows × 7 columns</p>\n",
       "</div>"
      ],
      "text/plain": [
       "      region parameter   mode powertrain  year      unit    value\n",
       "0    Germany  EV sales   Vans       FCEV  2010  Vehicles      2.0\n",
       "1    Germany  EV sales   Vans        BEV  2010  Vehicles    170.0\n",
       "2    Germany  EV stock   Vans        BEV  2010  Vehicles    220.0\n",
       "3    Germany  EV stock   Vans       FCEV  2010  Vehicles      2.0\n",
       "4    Germany  EV stock   Cars       FCEV  2010  Vehicles     19.0\n",
       "..       ...       ...    ...        ...   ...       ...      ...\n",
       "293  Germany  EV stock  Buses       PHEV  2023  Vehicles    140.0\n",
       "294  Germany  EV sales   Vans        BEV  2023  Vehicles  25000.0\n",
       "295  Germany  EV sales  Buses       FCEV  2023  Vehicles     43.0\n",
       "296  Germany  EV stock  Buses       FCEV  2023  Vehicles    160.0\n",
       "297  Germany  EV sales  Buses       PHEV  2023  Vehicles      5.0\n",
       "\n",
       "[298 rows x 7 columns]"
      ]
     },
     "execution_count": 44,
     "metadata": {},
     "output_type": "execute_result"
    }
   ],
   "source": [
    "germany_market = germany_market.drop(columns=['category']) \n",
    "germany_market"
   ]
  },
  {
   "cell_type": "code",
   "execution_count": 45,
   "metadata": {},
   "outputs": [
    {
     "name": "stdout",
     "output_type": "stream",
     "text": [
      "      region       parameter  mode powertrain  year      unit         value\n",
      "0    Germany        EV stock  Cars       FCEV  2010  Vehicles  1.900000e+01\n",
      "1    Germany        EV sales  Cars        BEV  2010  Vehicles  1.400000e+02\n",
      "2    Germany        EV stock  Cars        BEV  2010  Vehicles  2.500000e+02\n",
      "3    Germany        EV sales  Cars       FCEV  2010  Vehicles  1.600000e+01\n",
      "4    Germany  EV sales share  Cars         EV  2010   percent  4.900000e-03\n",
      "..       ...             ...   ...        ...   ...       ...           ...\n",
      "104  Germany        EV stock  Cars        BEV  2023  Vehicles  1.500000e+06\n",
      "105  Germany        EV sales  Cars       FCEV  2023  Vehicles  2.600000e+02\n",
      "106  Germany        EV sales  Cars        BEV  2023  Vehicles  5.200000e+05\n",
      "107  Germany        EV stock  Cars       FCEV  2023  Vehicles  2.400000e+03\n",
      "108  Germany        EV sales  Cars       PHEV  2023  Vehicles  1.800000e+05\n",
      "\n",
      "[109 rows x 7 columns]\n"
     ]
    }
   ],
   "source": [
    "cars_germany = germany_market.loc[germany_market['mode'] == 'Cars']\n",
    "cars_germany = cars_germany.reset_index(drop=True)\n",
    "print(cars_germany)"
   ]
  },
  {
   "cell_type": "code",
   "execution_count": 34,
   "metadata": {},
   "outputs": [
    {
     "name": "stdout",
     "output_type": "stream",
     "text": [
      "     region           parameter mode               powertrain  year  \\\n",
      "0   Germany  EV charging points   EV  Publicly available fast  2012   \n",
      "1   Germany  EV charging points   EV  Publicly available slow  2012   \n",
      "2   Germany  EV charging points   EV  Publicly available fast  2013   \n",
      "3   Germany  EV charging points   EV  Publicly available slow  2013   \n",
      "4   Germany  EV charging points   EV  Publicly available fast  2014   \n",
      "5   Germany  EV charging points   EV  Publicly available slow  2014   \n",
      "6   Germany  EV charging points   EV  Publicly available fast  2015   \n",
      "7   Germany  EV charging points   EV  Publicly available slow  2015   \n",
      "8   Germany  EV charging points   EV  Publicly available fast  2016   \n",
      "9   Germany  EV charging points   EV  Publicly available slow  2016   \n",
      "10  Germany  EV charging points   EV  Publicly available fast  2017   \n",
      "11  Germany  EV charging points   EV  Publicly available slow  2017   \n",
      "12  Germany  EV charging points   EV  Publicly available fast  2018   \n",
      "13  Germany  EV charging points   EV  Publicly available slow  2018   \n",
      "14  Germany  EV charging points   EV  Publicly available fast  2019   \n",
      "15  Germany  EV charging points   EV  Publicly available slow  2019   \n",
      "16  Germany  EV charging points   EV  Publicly available fast  2020   \n",
      "17  Germany  EV charging points   EV  Publicly available slow  2020   \n",
      "18  Germany  EV charging points   EV  Publicly available fast  2021   \n",
      "19  Germany  EV charging points   EV  Publicly available slow  2021   \n",
      "20  Germany  EV charging points   EV  Publicly available fast  2022   \n",
      "21  Germany  EV charging points   EV  Publicly available slow  2022   \n",
      "22  Germany  EV charging points   EV  Publicly available fast  2023   \n",
      "23  Germany  EV charging points   EV  Publicly available slow  2023   \n",
      "\n",
      "               unit    value  \n",
      "0   charging points     18.0  \n",
      "1   charging points   1500.0  \n",
      "2   charging points     47.0  \n",
      "3   charging points   2400.0  \n",
      "4   charging points    120.0  \n",
      "5   charging points   2600.0  \n",
      "6   charging points    470.0  \n",
      "7   charging points   4600.0  \n",
      "8   charging points    630.0  \n",
      "9   charging points   5800.0  \n",
      "10  charging points   1400.0  \n",
      "11  charging points   9400.0  \n",
      "12  charging points   2500.0  \n",
      "13  charging points  17000.0  \n",
      "14  charging points   3900.0  \n",
      "15  charging points  26000.0  \n",
      "16  charging points   6200.0  \n",
      "17  charging points  37000.0  \n",
      "18  charging points   9300.0  \n",
      "19  charging points  50000.0  \n",
      "20  charging points  15000.0  \n",
      "21  charging points  71000.0  \n",
      "22  charging points  21000.0  \n",
      "23  charging points  87000.0  \n"
     ]
    }
   ],
   "source": [
    "cars_germany = germany_market.loc[germany_market['mode'] == 'EV']\n",
    "cars_germany = cars_germany.reset_index(drop=True)\n",
    "print(cars_germany)"
   ]
  },
  {
   "cell_type": "code",
   "execution_count": 46,
   "metadata": {},
   "outputs": [
    {
     "name": "stdout",
     "output_type": "stream",
     "text": [
      "     region parameter  mode powertrain  year      unit     value\n",
      "0   Germany  EV sales  Cars        BEV  2010  Vehicles     140.0\n",
      "1   Germany  EV sales  Cars       FCEV  2010  Vehicles      16.0\n",
      "2   Germany  EV sales  Cars       FCEV  2011  Vehicles      38.0\n",
      "3   Germany  EV sales  Cars        BEV  2011  Vehicles    1400.0\n",
      "4   Germany  EV sales  Cars       PHEV  2011  Vehicles     240.0\n",
      "5   Germany  EV sales  Cars       PHEV  2012  Vehicles    1200.0\n",
      "6   Germany  EV sales  Cars        BEV  2012  Vehicles    2200.0\n",
      "7   Germany  EV sales  Cars       FCEV  2012  Vehicles      29.0\n",
      "8   Germany  EV sales  Cars       FCEV  2013  Vehicles      23.0\n",
      "9   Germany  EV sales  Cars        BEV  2013  Vehicles    5200.0\n",
      "10  Germany  EV sales  Cars       PHEV  2013  Vehicles    1600.0\n",
      "11  Germany  EV sales  Cars       PHEV  2014  Vehicles    4400.0\n",
      "12  Germany  EV sales  Cars        BEV  2014  Vehicles    9100.0\n",
      "13  Germany  EV sales  Cars       FCEV  2014  Vehicles       8.0\n",
      "14  Germany  EV sales  Cars       FCEV  2015  Vehicles      63.0\n",
      "15  Germany  EV sales  Cars        BEV  2015  Vehicles   12000.0\n",
      "16  Germany  EV sales  Cars       PHEV  2015  Vehicles   11000.0\n",
      "17  Germany  EV sales  Cars       PHEV  2016  Vehicles   13000.0\n",
      "18  Germany  EV sales  Cars        BEV  2016  Vehicles   11000.0\n",
      "19  Germany  EV sales  Cars       FCEV  2017  Vehicles      82.0\n",
      "20  Germany  EV sales  Cars        BEV  2017  Vehicles   25000.0\n",
      "21  Germany  EV sales  Cars       PHEV  2017  Vehicles   29000.0\n",
      "22  Germany  EV sales  Cars       PHEV  2018  Vehicles   31000.0\n",
      "23  Germany  EV sales  Cars        BEV  2018  Vehicles   36000.0\n",
      "24  Germany  EV sales  Cars       FCEV  2018  Vehicles     110.0\n",
      "25  Germany  EV sales  Cars       FCEV  2019  Vehicles     200.0\n",
      "26  Germany  EV sales  Cars        BEV  2019  Vehicles   63000.0\n",
      "27  Germany  EV sales  Cars       PHEV  2019  Vehicles   45000.0\n",
      "28  Germany  EV sales  Cars       PHEV  2020  Vehicles  200000.0\n",
      "29  Germany  EV sales  Cars        BEV  2020  Vehicles  190000.0\n",
      "30  Germany  EV sales  Cars       FCEV  2020  Vehicles     200.0\n",
      "31  Germany  EV sales  Cars       FCEV  2021  Vehicles     460.0\n",
      "32  Germany  EV sales  Cars        BEV  2021  Vehicles  360000.0\n",
      "33  Germany  EV sales  Cars       PHEV  2021  Vehicles  330000.0\n",
      "34  Germany  EV sales  Cars       PHEV  2022  Vehicles  360000.0\n",
      "35  Germany  EV sales  Cars        BEV  2022  Vehicles  470000.0\n",
      "36  Germany  EV sales  Cars       FCEV  2022  Vehicles     840.0\n",
      "37  Germany  EV sales  Cars       FCEV  2023  Vehicles     260.0\n",
      "38  Germany  EV sales  Cars        BEV  2023  Vehicles  520000.0\n",
      "39  Germany  EV sales  Cars       PHEV  2023  Vehicles  180000.0\n"
     ]
    }
   ],
   "source": [
    "sales_cars_germany = cars_germany.loc[cars_germany['parameter'] == 'EV sales']\n",
    "sales_cars_germany = sales_cars_germany.reset_index(drop=True)\n",
    "print(sales_cars_germany)"
   ]
  },
  {
   "cell_type": "code",
   "execution_count": 54,
   "metadata": {},
   "outputs": [
    {
     "data": {
      "image/png": "[encoded data removed]",
      "text/plain": [
       "<Figure size 1200x600 with 1 Axes>"
      ]
     },
     "metadata": {},
     "output_type": "display_data"
    }
   ],
   "source": [
    "# Set plot style\n",
    "sns.set_style(\"whitegrid\")\n",
    "\n",
    "# Create figure\n",
    "plt.figure(figsize=(12, 6))\n",
    "\n",
    "# Line plot for each powertrain\n",
    "sns.lineplot(data=sales_cars_germany, x=\"year\", y=\"value\", hue=\"powertrain\", marker=\"o\", linewidth=2)\n",
    "\n",
    "# Labels and title\n",
    "plt.xlabel(\"Year\", fontsize=12)\n",
    "plt.ylabel(\"EV Sales (Vehicles)\", fontsize=12)\n",
    "plt.title(\"EV Sales in Germany by Powertrain (2010-2023)\", fontsize=14)\n",
    "\n",
    "# Display legend\n",
    "plt.legend(title=\"Powertrain\")\n",
    "\n",
    "# Show the plot\n",
    "plt.show()\n"
   ]
  },
  {
   "cell_type": "code",
   "execution_count": 30,
   "metadata": {},
   "outputs": [
    {
     "name": "stdout",
     "output_type": "stream",
     "text": [
      "Index(['region', 'parameter', 'mode', 'powertrain', 'year', 'unit', 'value'], dtype='object')\n"
     ]
    }
   ],
   "source": [
    "print(sales_cars_germany.columns)"
   ]
  },
  {
   "cell_type": "code",
   "execution_count": 48,
   "metadata": {},
   "outputs": [],
   "source": [
    "sales_cars_germany = sales_cars_germany.astype({\n",
    "    'region': 'category',        # Categorical (e.g., Germany, Bavaria)\n",
    "    'parameter': 'category',     # Categorical (e.g., sales, production)\n",
    "    'mode': 'category',          # Categorical (e.g., retail, wholesale)\n",
    "    'powertrain': 'category',    # Categorical (e.g., EV, gasoline, diesel)\n",
    "    'year': 'int64',             # Integer (years)\n",
    "    'unit': 'category',          # Categorical (e.g., vehicles, kWh)\n",
    "    'value': 'float64'           # Float (numerical values, e.g., sales numbers)\n",
    "})"
   ]
  },
  {
   "cell_type": "code",
   "execution_count": 49,
   "metadata": {},
   "outputs": [
    {
     "name": "stdout",
     "output_type": "stream",
     "text": [
      "     region       parameter  mode powertrain  year     unit    value\n",
      "0   Germany  EV sales share  Cars         EV  2010  percent   0.0049\n",
      "1   Germany  EV sales share  Cars         EV  2011  percent   0.0520\n",
      "2   Germany  EV sales share  Cars         EV  2012  percent   0.1100\n",
      "3   Germany  EV sales share  Cars         EV  2013  percent   0.2300\n",
      "4   Germany  EV sales share  Cars         EV  2014  percent   0.4500\n",
      "5   Germany  EV sales share  Cars         EV  2015  percent   0.7300\n",
      "6   Germany  EV sales share  Cars         EV  2016  percent   0.7400\n",
      "7   Germany  EV sales share  Cars         EV  2017  percent   1.6000\n",
      "8   Germany  EV sales share  Cars         EV  2018  percent   2.0000\n",
      "9   Germany  EV sales share  Cars         EV  2019  percent   3.0000\n",
      "10  Germany  EV sales share  Cars         EV  2020  percent  14.0000\n",
      "11  Germany  EV sales share  Cars         EV  2021  percent  26.0000\n",
      "12  Germany  EV sales share  Cars         EV  2022  percent  31.0000\n",
      "13  Germany  EV sales share  Cars         EV  2023  percent  24.0000\n"
     ]
    }
   ],
   "source": [
    "sales_cars_germany = cars_germany.loc[cars_germany['parameter'] == 'EV sales share']\n",
    "sales_cars_germany = sales_cars_germany.reset_index(drop=True)\n",
    "print(sales_cars_germany)"
   ]
  },
  {
   "cell_type": "code",
   "execution_count": 50,
   "metadata": {},
   "outputs": [],
   "source": [
    "import matplotlib.pyplot as plt\n",
    "import seaborn as sns\n",
    "import matplotlib.dates as mdates\n",
    "import matplotlib.ticker as ticker\n",
    "import matplotlib.dates as mdates"
   ]
  },
  {
   "cell_type": "code",
   "execution_count": 52,
   "metadata": {},
   "outputs": [
    {
     "data": {
      "image/png": "[encoded data removed]",
      "text/plain": [
       "<Figure size 1200x600 with 1 Axes>"
      ]
     },
     "metadata": {},
     "output_type": "display_data"
    },
    {
     "data": {
      "text/plain": [
       "Text(0, 0.5, 'EV Sales (Units)')"
      ]
     },
     "execution_count": 52,
     "metadata": {},
     "output_type": "execute_result"
    },
    {
     "data": {
      "image/png": "[encoded data removed]",
      "text/plain": [
       "<Figure size 1200x600 with 1 Axes>"
      ]
     },
     "metadata": {},
     "output_type": "display_data"
    }
   ],
   "source": [
    "#to show ev sales share over the years\n",
    "plt.figure(figsize=(12, 6))\n",
    "sns.lineplot(data=sales_cars_germany, x='year', y='value', hue='powertrain', marker='o')\n",
    "plt.title('EV Sales Share in Germany (2010-2023)')\n",
    "plt.xlabel('Year')\n",
    "plt.ylabel('EV Sales Share (%)')\n",
    "plt.xticks(rotation=45)\n",
    "plt.grid()\n",
    "plt.legend(title='Powertrain')\n",
    "plt.tight_layout()\n",
    "plt.savefig('ev_sales_share_germany.png')  # Save the figure\n",
    "plt.show()\n",
    "#to show ev sales over the years\n",
    "plt.figure(figsize=(12, 6))\n",
    "sns.lineplot(data=sales_cars_germany, x='year', y='value', hue='powertrain', marker='o')\n",
    "plt.title('EV Sales in Germany (2010-2023)')\n",
    "plt.xlabel('Year')\n",
    "plt.ylabel('EV Sales (Units)')  "
   ]
  },
  {
   "cell_type": "code",
   "execution_count": 53,
   "metadata": {},
   "outputs": [
    {
     "data": {
      "image/png": "[encoded data removed]",
      "text/plain": [
       "<Figure size 1000x500 with 1 Axes>"
      ]
     },
     "metadata": {},
     "output_type": "display_data"
    }
   ],
   "source": [
    "# Set plot style\n",
    "sns.set_style(\"whitegrid\")\n",
    "\n",
    "# Create figure and axis\n",
    "plt.figure(figsize=(10, 5))\n",
    "\n",
    "# Plot the data\n",
    "sns.lineplot(data=sales_cars_germany, x=\"year\", y=\"value\", marker=\"o\", color=\"b\", linewidth=2)\n",
    "\n",
    "# Add labels and title\n",
    "plt.xlabel(\"Year\", fontsize=12)\n",
    "plt.ylabel(\"EV Sales Share (%)\", fontsize=12)\n",
    "plt.title(\"EV Sales Share in Germany Over the Years\", fontsize=14)\n",
    "\n",
    "# Format y-axis as percentage\n",
    "plt.gca().yaxis.set_major_formatter(plt.FuncFormatter(lambda x, _: f\"{x}%\"))\n",
    "\n",
    "# Show the plot\n",
    "plt.show()"
   ]
  },
  {
   "cell_type": "code",
   "execution_count": 33,
   "metadata": {},
   "outputs": [
    {
     "name": "stdout",
     "output_type": "stream",
     "text": [
      "<class 'pandas.core.frame.DataFrame'>\n",
      "RangeIndex: 40 entries, 0 to 39\n",
      "Data columns (total 7 columns):\n",
      " #   Column      Non-Null Count  Dtype   \n",
      "---  ------      --------------  -----   \n",
      " 0   region      40 non-null     category\n",
      " 1   parameter   40 non-null     category\n",
      " 2   mode        40 non-null     category\n",
      " 3   powertrain  40 non-null     category\n",
      " 4   year        40 non-null     int64   \n",
      " 5   unit        40 non-null     category\n",
      " 6   value       40 non-null     float64 \n",
      "dtypes: category(5), float64(1), int64(1)\n",
      "memory usage: 1.5 KB\n"
     ]
    },
    {
     "data": {
      "text/html": [
       "<div>\n",
       "<style scoped>\n",
       "    .dataframe tbody tr th:only-of-type {\n",
       "        vertical-align: middle;\n",
       "    }\n",
       "\n",
       "    .dataframe tbody tr th {\n",
       "        vertical-align: top;\n",
       "    }\n",
       "\n",
       "    .dataframe thead th {\n",
       "        text-align: right;\n",
       "    }\n",
       "</style>\n",
       "<table border=\"1\" class=\"dataframe\">\n",
       "  <thead>\n",
       "    <tr style=\"text-align: right;\">\n",
       "      <th></th>\n",
       "      <th>year</th>\n",
       "      <th>value</th>\n",
       "    </tr>\n",
       "  </thead>\n",
       "  <tbody>\n",
       "    <tr>\n",
       "      <th>count</th>\n",
       "      <td>40.000000</td>\n",
       "      <td>40.000000</td>\n",
       "    </tr>\n",
       "    <tr>\n",
       "      <th>mean</th>\n",
       "      <td>2016.675000</td>\n",
       "      <td>72845.225000</td>\n",
       "    </tr>\n",
       "    <tr>\n",
       "      <th>std</th>\n",
       "      <td>4.047079</td>\n",
       "      <td>140151.575978</td>\n",
       "    </tr>\n",
       "    <tr>\n",
       "      <th>min</th>\n",
       "      <td>2010.000000</td>\n",
       "      <td>8.000000</td>\n",
       "    </tr>\n",
       "    <tr>\n",
       "      <th>25%</th>\n",
       "      <td>2013.000000</td>\n",
       "      <td>200.000000</td>\n",
       "    </tr>\n",
       "    <tr>\n",
       "      <th>50%</th>\n",
       "      <td>2017.000000</td>\n",
       "      <td>4800.000000</td>\n",
       "    </tr>\n",
       "    <tr>\n",
       "      <th>75%</th>\n",
       "      <td>2020.000000</td>\n",
       "      <td>38250.000000</td>\n",
       "    </tr>\n",
       "    <tr>\n",
       "      <th>max</th>\n",
       "      <td>2023.000000</td>\n",
       "      <td>520000.000000</td>\n",
       "    </tr>\n",
       "  </tbody>\n",
       "</table>\n",
       "</div>"
      ],
      "text/plain": [
       "              year          value\n",
       "count    40.000000      40.000000\n",
       "mean   2016.675000   72845.225000\n",
       "std       4.047079  140151.575978\n",
       "min    2010.000000       8.000000\n",
       "25%    2013.000000     200.000000\n",
       "50%    2017.000000    4800.000000\n",
       "75%    2020.000000   38250.000000\n",
       "max    2023.000000  520000.000000"
      ]
     },
     "execution_count": 33,
     "metadata": {},
     "output_type": "execute_result"
    }
   ],
   "source": [
    "sales_cars_germany.info()\n",
    "sales_cars_germany.describe()"
   ]
  },
  {
   "cell_type": "code",
   "execution_count": 29,
   "metadata": {},
   "outputs": [
    {
     "data": {
      "text/plain": [
       "['Vehicles']"
      ]
     },
     "execution_count": 29,
     "metadata": {},
     "output_type": "execute_result"
    }
   ],
   "source": [
    "sales_cars_germany['unit'].unique().tolist() "
   ]
  },
  {
   "cell_type": "code",
   "execution_count": null,
   "metadata": {},
   "outputs": [],
   "source": []
  },
  {
   "cell_type": "code",
   "execution_count": null,
   "metadata": {},
   "outputs": [],
   "source": []
  },
  {
   "cell_type": "code",
   "execution_count": null,
   "metadata": {},
   "outputs": [],
   "source": []
  },
  {
   "cell_type": "code",
   "execution_count": null,
   "metadata": {},
   "outputs": [],
   "source": []
  },
  {
   "cell_type": "code",
   "execution_count": null,
   "metadata": {},
   "outputs": [],
   "source": []
  },
  {
   "cell_type": "code",
   "execution_count": null,
   "metadata": {},
   "outputs": [],
   "source": []
  },
  {
   "cell_type": "code",
   "execution_count": null,
   "metadata": {},
   "outputs": [],
   "source": []
  },
  {
   "cell_type": "code",
   "execution_count": null,
   "metadata": {},
   "outputs": [],
   "source": []
  },
  {
   "cell_type": "code",
   "execution_count": null,
   "metadata": {},
   "outputs": [],
   "source": []
  }
 ],
 "metadata": {
  "kernelspec": {
   "display_name": "base",
   "language": "python",
   "name": "python3"
  },
  "language_info": {
   "codemirror_mode": {
    "name": "ipython",
    "version": 3
   },
   "file_extension": ".py",
   "mimetype": "text/x-python",
   "name": "python",
   "nbconvert_exporter": "python",
   "pygments_lexer": "ipython3",
   "version": "3.12.8"
  }
 },
 "nbformat": 4,
 "nbformat_minor": 2
}
